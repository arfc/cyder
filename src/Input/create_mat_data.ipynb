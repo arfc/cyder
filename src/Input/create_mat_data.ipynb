{
 "metadata": {
  "name": "create_mat_data"
 }, 
 "nbformat": 2, 
 "worksheets": [
  {
   "cells": [
    {
     "cell_type": "markdown", 
     "source": [
      "# Create Material Data Table", 
      "## Kathryn D. Huff", 
      "### This script creates a data table for use with the Cyder repository model ", 
      "", 
      "First, get the filename."
     ]
    }, 
    {
     "cell_type": "code", 
     "collapsed": false, 
     "input": [
      "filename = \"mat_data.sqlite\""
     ], 
     "language": "python", 
     "outputs": [], 
     "prompt_number": 26
    }, 
    {
     "cell_type": "markdown", 
     "source": [
      "Then, create a connection to the database. ", 
      "If it already exists, throw an exception so that you don't overwrite it."
     ]
    }, 
    {
     "cell_type": "code", 
     "collapsed": true, 
     "input": [
      "import sqlite3", 
      "conn = sqlite3.connect(filename)"
     ], 
     "language": "python", 
     "outputs": [], 
     "prompt_number": 27
    }, 
    {
     "cell_type": "markdown", 
     "source": [
      "Once you have a Connection, you can create a Cursor object."
     ]
    }, 
    {
     "cell_type": "code", 
     "collapsed": true, 
     "input": [
      "c = conn.cursor()"
     ], 
     "language": "python", 
     "outputs": [], 
     "prompt_number": 28
    }, 
    {
     "cell_type": "markdown", 
     "source": [
      "Create a table"
     ]
    }, 
    {
     "cell_type": "code", 
     "collapsed": false, 
     "input": [
      "c.execute('''CREATE TABLE clay (elem integer, d real, k_d real, s real)''')"
     ], 
     "language": "python", 
     "outputs": [
      {
       "output_type": "pyout", 
       "prompt_number": 29, 
       "text": [
        "<sqlite3.Cursor at 0x1795b60>"
       ]
      }
     ], 
     "prompt_number": 29
    }, 
    {
     "cell_type": "markdown", 
     "source": [
      "Insert a row of data for each element. This is FAKE data... for now."
     ]
    }, 
    {
     "cell_type": "code", 
     "collapsed": false, 
     "input": [
      "elements = range(1,120)", 
      "for elem in elements :", 
      "    d = elem*10.**(-6)", 
      "    k_d = elem/200.", 
      "    s = elem*2.", 
      "    str_to_execute = \"{0},{1},{2},{3}\".format(elem,d,k_d,s)", 
      "    c.execute(\"INSERT INTO clay VALUES (\"+str_to_execute+\")\")"
     ], 
     "language": "python", 
     "outputs": [], 
     "prompt_number": 30
    }, 
    {
     "cell_type": "markdown", 
     "source": [
      "Save the changes and close the connection."
     ]
    }, 
    {
     "cell_type": "code", 
     "collapsed": true, 
     "input": [
      "conn.commit()", 
      "conn.close()"
     ], 
     "language": "python", 
     "outputs": [], 
     "prompt_number": 31
    }, 
    {
     "cell_type": "markdown", 
     "source": [
      "test it"
     ]
    }, 
    {
     "cell_type": "code", 
     "collapsed": false, 
     "input": [
      "conn = sqlite3.connect(filename)", 
      "c = conn.cursor()", 
      "all = c.execute('''SELECT * FROM clay WHERE elem=2''')", 
      "print all.fetchone()", 
      "conn.close()"
     ], 
     "language": "python", 
     "outputs": [
      {
       "output_type": "stream", 
       "stream": "stdout", 
       "text": [
        "(2, 2e-06, 0.01, 4.0)"
       ]
      }
     ], 
     "prompt_number": 45
    }, 
    {
     "cell_type": "code", 
     "collapsed": true, 
     "input": [], 
     "language": "python", 
     "outputs": []
    }
   ]
  }
 ]
}
